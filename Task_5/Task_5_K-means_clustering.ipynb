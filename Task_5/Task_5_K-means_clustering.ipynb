{
 "cells": [
  {
   "cell_type": "markdown",
   "id": "bb58d99e",
   "metadata": {},
   "source": [
    "# Task 5: K-means clustering"
   ]
  },
  {
   "cell_type": "markdown",
   "id": "a06e899a",
   "metadata": {},
   "source": [
    "### Importing required modules"
   ]
  },
  {
   "cell_type": "code",
   "execution_count": 18,
   "id": "41e29134",
   "metadata": {},
   "outputs": [],
   "source": [
    "import numpy as np\n",
    "import pandas as pd\n",
    "from sklearn.cluster import KMeans"
   ]
  },
  {
   "cell_type": "markdown",
   "id": "5bb611f6",
   "metadata": {},
   "source": [
    "### Reading data from file"
   ]
  },
  {
   "cell_type": "code",
   "execution_count": 19,
   "id": "bd275de9",
   "metadata": {},
   "outputs": [
    {
     "data": {
      "text/html": [
       "<div>\n",
       "<style scoped>\n",
       "    .dataframe tbody tr th:only-of-type {\n",
       "        vertical-align: middle;\n",
       "    }\n",
       "\n",
       "    .dataframe tbody tr th {\n",
       "        vertical-align: top;\n",
       "    }\n",
       "\n",
       "    .dataframe thead th {\n",
       "        text-align: right;\n",
       "    }\n",
       "</style>\n",
       "<table border=\"1\" class=\"dataframe\">\n",
       "  <thead>\n",
       "    <tr style=\"text-align: right;\">\n",
       "      <th></th>\n",
       "      <th>X</th>\n",
       "      <th>Y</th>\n",
       "      <th>Cluster</th>\n",
       "    </tr>\n",
       "    <tr>\n",
       "      <th>Object</th>\n",
       "      <th></th>\n",
       "      <th></th>\n",
       "      <th></th>\n",
       "    </tr>\n",
       "  </thead>\n",
       "  <tbody>\n",
       "    <tr>\n",
       "      <th>1</th>\n",
       "      <td>3</td>\n",
       "      <td>18</td>\n",
       "      <td>0</td>\n",
       "    </tr>\n",
       "    <tr>\n",
       "      <th>2</th>\n",
       "      <td>15</td>\n",
       "      <td>18</td>\n",
       "      <td>1</td>\n",
       "    </tr>\n",
       "    <tr>\n",
       "      <th>3</th>\n",
       "      <td>15</td>\n",
       "      <td>5</td>\n",
       "      <td>2</td>\n",
       "    </tr>\n",
       "    <tr>\n",
       "      <th>4</th>\n",
       "      <td>11</td>\n",
       "      <td>8</td>\n",
       "      <td>1</td>\n",
       "    </tr>\n",
       "    <tr>\n",
       "      <th>5</th>\n",
       "      <td>5</td>\n",
       "      <td>12</td>\n",
       "      <td>2</td>\n",
       "    </tr>\n",
       "  </tbody>\n",
       "</table>\n",
       "</div>"
      ],
      "text/plain": [
       "         X   Y  Cluster\n",
       "Object                 \n",
       "1        3  18        0\n",
       "2       15  18        1\n",
       "3       15   5        2\n",
       "4       11   8        1\n",
       "5        5  12        2"
      ]
     },
     "execution_count": 19,
     "metadata": {},
     "output_type": "execute_result"
    }
   ],
   "source": [
    "data = pd.read_csv(\"kmeans.csv\", delimiter=',', index_col='Object')\n",
    "data.head()"
   ]
  },
  {
   "cell_type": "markdown",
   "id": "8a7a3ad3",
   "metadata": {},
   "source": [
    "### Removing information about clusters"
   ]
  },
  {
   "cell_type": "code",
   "execution_count": 20,
   "id": "a6d71a66",
   "metadata": {},
   "outputs": [
    {
     "data": {
      "text/html": [
       "<div>\n",
       "<style scoped>\n",
       "    .dataframe tbody tr th:only-of-type {\n",
       "        vertical-align: middle;\n",
       "    }\n",
       "\n",
       "    .dataframe tbody tr th {\n",
       "        vertical-align: top;\n",
       "    }\n",
       "\n",
       "    .dataframe thead th {\n",
       "        text-align: right;\n",
       "    }\n",
       "</style>\n",
       "<table border=\"1\" class=\"dataframe\">\n",
       "  <thead>\n",
       "    <tr style=\"text-align: right;\">\n",
       "      <th></th>\n",
       "      <th>X</th>\n",
       "      <th>Y</th>\n",
       "    </tr>\n",
       "    <tr>\n",
       "      <th>Object</th>\n",
       "      <th></th>\n",
       "      <th></th>\n",
       "    </tr>\n",
       "  </thead>\n",
       "  <tbody>\n",
       "    <tr>\n",
       "      <th>1</th>\n",
       "      <td>3</td>\n",
       "      <td>18</td>\n",
       "    </tr>\n",
       "    <tr>\n",
       "      <th>2</th>\n",
       "      <td>15</td>\n",
       "      <td>18</td>\n",
       "    </tr>\n",
       "    <tr>\n",
       "      <th>3</th>\n",
       "      <td>15</td>\n",
       "      <td>5</td>\n",
       "    </tr>\n",
       "    <tr>\n",
       "      <th>4</th>\n",
       "      <td>11</td>\n",
       "      <td>8</td>\n",
       "    </tr>\n",
       "    <tr>\n",
       "      <th>5</th>\n",
       "      <td>5</td>\n",
       "      <td>12</td>\n",
       "    </tr>\n",
       "  </tbody>\n",
       "</table>\n",
       "</div>"
      ],
      "text/plain": [
       "         X   Y\n",
       "Object        \n",
       "1        3  18\n",
       "2       15  18\n",
       "3       15   5\n",
       "4       11   8\n",
       "5        5  12"
      ]
     },
     "execution_count": 20,
     "metadata": {},
     "output_type": "execute_result"
    }
   ],
   "source": [
    "coords = data.drop('Cluster', axis=1)\n",
    "coords.head()"
   ]
  },
  {
   "cell_type": "markdown",
   "id": "9bb5620f",
   "metadata": {},
   "source": [
    "### Model initialization"
   ]
  },
  {
   "cell_type": "code",
   "execution_count": 21,
   "id": "391b99b0",
   "metadata": {},
   "outputs": [],
   "source": [
    "# Centroid initial coordinates\n",
    "centroid = np.array([[8.67, 12.67], [15.5, 9.75], [13.4, 12.6]])\n",
    "\n",
    "# Generating k-means object\n",
    "kmeans = KMeans(n_clusters=3, init=centroid, max_iter=100, n_init=1)"
   ]
  },
  {
   "cell_type": "markdown",
   "id": "e4c63bb7",
   "metadata": {},
   "source": [
    "### Model training"
   ]
  },
  {
   "cell_type": "code",
   "execution_count": 22,
   "id": "130648ca",
   "metadata": {},
   "outputs": [],
   "source": [
    "model = kmeans.fit(coords)"
   ]
  },
  {
   "cell_type": "markdown",
   "id": "386a8bf3",
   "metadata": {},
   "source": [
    "### Assigning clusters"
   ]
  },
  {
   "cell_type": "code",
   "execution_count": 23,
   "id": "ab4fc627",
   "metadata": {},
   "outputs": [
    {
     "name": "stdout",
     "output_type": "stream",
     "text": [
      "[0, 2, 1, 1, 0, 0, 2, 1, 0, 2, 1, 2, 2, 1, 1]\n"
     ]
    }
   ],
   "source": [
    "clusters_list = model.labels_.tolist()\n",
    "print(clusters_list)"
   ]
  },
  {
   "cell_type": "markdown",
   "id": "d08caf80",
   "metadata": {},
   "source": [
    "### Distances calculation"
   ]
  },
  {
   "cell_type": "code",
   "execution_count": 24,
   "id": "f5c493cd",
   "metadata": {},
   "outputs": [
    {
     "name": "stdout",
     "output_type": "stream",
     "text": [
      "[[ 7.26722093 17.12129928  9.20869155]\n",
      " [10.90011468 11.36392929  2.82842712]\n",
      " [10.90011468  1.86338998 13.68941197]\n",
      " [ 5.90021186  5.01386965 10.46900186]\n",
      " [ 1.3462912  12.07499712  9.63327566]\n",
      " [ 4.82830198  7.84042232 12.14907404]\n",
      " [10.26218788 13.87343585  1.61245155]\n",
      " [17.30065028  7.03364928 19.0682983 ]\n",
      " [ 3.71651719  7.22072634  9.92975327]\n",
      " [ 7.7014609  14.61068863  4.24264069]\n",
      " [ 8.11249037  2.85287379 11.4280357 ]\n",
      " [ 6.54312616 10.51057668  2.68328157]\n",
      " [11.52443057 12.36145443  2.86356421]\n",
      " [14.4676363   4.17997873 13.81303732]\n",
      " [ 9.76281209  5.33593686  7.44311763]]\n"
     ]
    }
   ],
   "source": [
    "alldistances = kmeans.fit_transform(coords)\n",
    "print(alldistances)"
   ]
  },
  {
   "cell_type": "markdown",
   "id": "15bcc27a",
   "metadata": {},
   "source": [
    "### Calculation of average distance between centroid 0 and points 0"
   ]
  },
  {
   "cell_type": "code",
   "execution_count": 25,
   "id": "f5876e62",
   "metadata": {},
   "outputs": [
    {
     "name": "stdout",
     "output_type": "stream",
     "text": [
      "Average distance for cluster 0: 4.28958282361114\n"
     ]
    }
   ],
   "source": [
    "sum = 0\n",
    "counter = 0\n",
    "for i in range(len(clusters_list)):\n",
    "    if clusters_list[i] == 0:\n",
    "        counter+=1\n",
    "        sum += alldistances[i, 0]\n",
    "average_distance = sum / counter\n",
    "print('Average distance for cluster 0:', average_distance)"
   ]
  }
 ],
 "metadata": {
  "kernelspec": {
   "display_name": "Python 3 (ipykernel)",
   "language": "python",
   "name": "python3"
  },
  "language_info": {
   "codemirror_mode": {
    "name": "ipython",
    "version": 3
   },
   "file_extension": ".py",
   "mimetype": "text/x-python",
   "name": "python",
   "nbconvert_exporter": "python",
   "pygments_lexer": "ipython3",
   "version": "3.8.10"
  }
 },
 "nbformat": 4,
 "nbformat_minor": 5
}
