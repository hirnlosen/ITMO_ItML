{
 "cells": [
  {
   "cell_type": "markdown",
   "id": "dc5ccaf5",
   "metadata": {},
   "source": [
    "# Task 1: Introduction to ML"
   ]
  },
  {
   "cell_type": "markdown",
   "id": "a58e8e88",
   "metadata": {},
   "source": [
    "### Importing required modules"
   ]
  },
  {
   "cell_type": "code",
   "execution_count": 90,
   "id": "6591aff5",
   "metadata": {},
   "outputs": [],
   "source": [
    "import pandas as pd"
   ]
  },
  {
   "cell_type": "markdown",
   "id": "06e5b66f",
   "metadata": {},
   "source": [
    "### Reading data from file"
   ]
  },
  {
   "cell_type": "code",
   "execution_count": 91,
   "id": "dcdd8d3d",
   "metadata": {},
   "outputs": [
    {
     "data": {
      "text/html": [
       "<div>\n",
       "<style scoped>\n",
       "    .dataframe tbody tr th:only-of-type {\n",
       "        vertical-align: middle;\n",
       "    }\n",
       "\n",
       "    .dataframe tbody tr th {\n",
       "        vertical-align: top;\n",
       "    }\n",
       "\n",
       "    .dataframe thead th {\n",
       "        text-align: right;\n",
       "    }\n",
       "</style>\n",
       "<table border=\"1\" class=\"dataframe\">\n",
       "  <thead>\n",
       "    <tr style=\"text-align: right;\">\n",
       "      <th></th>\n",
       "      <th>Region_RU</th>\n",
       "      <th>Region_EN</th>\n",
       "      <th>AVG_Salary</th>\n",
       "      <th>Population</th>\n",
       "    </tr>\n",
       "  </thead>\n",
       "  <tbody>\n",
       "    <tr>\n",
       "      <th>0</th>\n",
       "      <td>Алтайский край</td>\n",
       "      <td>Altai Region</td>\n",
       "      <td>25960</td>\n",
       "      <td>218866</td>\n",
       "    </tr>\n",
       "    <tr>\n",
       "      <th>1</th>\n",
       "      <td>Амурская область</td>\n",
       "      <td>Amur Region</td>\n",
       "      <td>43156</td>\n",
       "      <td>793194</td>\n",
       "    </tr>\n",
       "    <tr>\n",
       "      <th>2</th>\n",
       "      <td>Архангельская область</td>\n",
       "      <td>Arkhangelsk Region</td>\n",
       "      <td>47526</td>\n",
       "      <td>1144119</td>\n",
       "    </tr>\n",
       "    <tr>\n",
       "      <th>3</th>\n",
       "      <td>Астраханская область</td>\n",
       "      <td>Astrakhan Region</td>\n",
       "      <td>32166</td>\n",
       "      <td>1014065</td>\n",
       "    </tr>\n",
       "    <tr>\n",
       "      <th>4</th>\n",
       "      <td>Белгородская область</td>\n",
       "      <td>Belgorod Region</td>\n",
       "      <td>31163</td>\n",
       "      <td>1547418</td>\n",
       "    </tr>\n",
       "  </tbody>\n",
       "</table>\n",
       "</div>"
      ],
      "text/plain": [
       "               Region_RU           Region_EN  AVG_Salary  Population\n",
       "0         Алтайский край        Altai Region       25960      218866\n",
       "1       Амурская область         Amur Region       43156      793194\n",
       "2  Архангельская область  Arkhangelsk Region       47526     1144119\n",
       "3   Астраханская область    Astrakhan Region       32166     1014065\n",
       "4   Белгородская область     Belgorod Region       31163     1547418"
      ]
     },
     "execution_count": 91,
     "metadata": {},
     "output_type": "execute_result"
    }
   ],
   "source": [
    "data = pd.read_csv(\"salary_and_population.csv\", encoding = 'utf-8', delimiter=',')\n",
    "data.head()"
   ]
  },
  {
   "cell_type": "markdown",
   "id": "327baa4c",
   "metadata": {},
   "source": [
    "### Deleting particular regions from dataset"
   ]
  },
  {
   "cell_type": "code",
   "execution_count": 92,
   "id": "998614e7",
   "metadata": {},
   "outputs": [
    {
     "name": "stdout",
     "output_type": "stream",
     "text": [
      "Number of entries before removal: 85\n",
      "Number of entries after removal: 81\n"
     ]
    }
   ],
   "source": [
    "missing_regions_array = ['Sakhalin Region', 'Pskov Region', 'Primorsky Region', 'Murmansk Region']\n",
    "data_cropped = data.copy()\n",
    "\n",
    "print(\"Number of entries before removal: \" + str(data_cropped.count()[0]))\n",
    "for region in missing_regions_array:\n",
    "    index = data_cropped[data_cropped['Region_EN'] == region].index.values[0]\n",
    "    data_cropped = data_cropped.drop(index)\n",
    "print(\"Number of entries after removal: \" + str(data_cropped.count()[0]))"
   ]
  },
  {
   "cell_type": "markdown",
   "id": "d342ed59",
   "metadata": {},
   "source": [
    "### Calculating various metrics"
   ]
  },
  {
   "cell_type": "code",
   "execution_count": 93,
   "id": "3a281eea",
   "metadata": {},
   "outputs": [
    {
     "name": "stdout",
     "output_type": "stream",
     "text": [
      "Sample mean of average salary:  38297.18518518518\n",
      "Sample median of average salary:  32473.0\n",
      "Estimate variance of average salary:  260639051.3360768\n",
      "Standard deviation of average salary:  16144.319475780849\n"
     ]
    }
   ],
   "source": [
    "print(\"Sample mean of average salary: \", data_cropped['AVG_Salary'].mean())\n",
    "print(\"Sample median of average salary: \", data_cropped['AVG_Salary'].median())\n",
    "print(\"Estimate variance of average salary: \", data_cropped['AVG_Salary'].var(ddof = 0))\n",
    "print(\"Standard deviation of average salary: \", data_cropped['AVG_Salary'].std(ddof = 0))"
   ]
  }
 ],
 "metadata": {
  "kernelspec": {
   "display_name": "Python 3 (ipykernel)",
   "language": "python",
   "name": "python3"
  },
  "language_info": {
   "codemirror_mode": {
    "name": "ipython",
    "version": 3
   },
   "file_extension": ".py",
   "mimetype": "text/x-python",
   "name": "python",
   "nbconvert_exporter": "python",
   "pygments_lexer": "ipython3",
   "version": "3.8.10"
  }
 },
 "nbformat": 4,
 "nbformat_minor": 5
}
