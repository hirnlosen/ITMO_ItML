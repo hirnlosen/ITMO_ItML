{
 "cells": [
  {
   "cell_type": "markdown",
   "id": "69c0edff",
   "metadata": {},
   "source": [
    "# Task 4: Logistic Regression - candies class prediction"
   ]
  },
  {
   "cell_type": "markdown",
   "id": "53594201",
   "metadata": {},
   "source": [
    "### Importing required modules"
   ]
  },
  {
   "cell_type": "code",
   "execution_count": 65,
   "id": "7e2db803",
   "metadata": {},
   "outputs": [],
   "source": [
    "import pandas as pd\n",
    "from sklearn.linear_model import LogisticRegression\n",
    "from sklearn import metrics"
   ]
  },
  {
   "cell_type": "markdown",
   "id": "b6ac1aac",
   "metadata": {},
   "source": [
    "### Reading data from file"
   ]
  },
  {
   "cell_type": "code",
   "execution_count": 66,
   "id": "ed17565c",
   "metadata": {},
   "outputs": [
    {
     "data": {
      "text/html": [
       "<div>\n",
       "<style scoped>\n",
       "    .dataframe tbody tr th:only-of-type {\n",
       "        vertical-align: middle;\n",
       "    }\n",
       "\n",
       "    .dataframe tbody tr th {\n",
       "        vertical-align: top;\n",
       "    }\n",
       "\n",
       "    .dataframe thead th {\n",
       "        text-align: right;\n",
       "    }\n",
       "</style>\n",
       "<table border=\"1\" class=\"dataframe\">\n",
       "  <thead>\n",
       "    <tr style=\"text-align: right;\">\n",
       "      <th></th>\n",
       "      <th>chocolate</th>\n",
       "      <th>fruity</th>\n",
       "      <th>caramel</th>\n",
       "      <th>peanutyalmondy</th>\n",
       "      <th>nougat</th>\n",
       "      <th>crispedricewafer</th>\n",
       "      <th>hard</th>\n",
       "      <th>bar</th>\n",
       "      <th>pluribus</th>\n",
       "      <th>sugarpercent</th>\n",
       "      <th>pricepercent</th>\n",
       "      <th>winpercent</th>\n",
       "      <th>Y</th>\n",
       "    </tr>\n",
       "    <tr>\n",
       "      <th>competitorname</th>\n",
       "      <th></th>\n",
       "      <th></th>\n",
       "      <th></th>\n",
       "      <th></th>\n",
       "      <th></th>\n",
       "      <th></th>\n",
       "      <th></th>\n",
       "      <th></th>\n",
       "      <th></th>\n",
       "      <th></th>\n",
       "      <th></th>\n",
       "      <th></th>\n",
       "      <th></th>\n",
       "    </tr>\n",
       "  </thead>\n",
       "  <tbody>\n",
       "    <tr>\n",
       "      <th>100 Grand</th>\n",
       "      <td>1</td>\n",
       "      <td>0</td>\n",
       "      <td>1</td>\n",
       "      <td>0</td>\n",
       "      <td>0</td>\n",
       "      <td>1</td>\n",
       "      <td>0</td>\n",
       "      <td>1</td>\n",
       "      <td>0</td>\n",
       "      <td>0.732</td>\n",
       "      <td>0.860</td>\n",
       "      <td>66.971725</td>\n",
       "      <td>1</td>\n",
       "    </tr>\n",
       "    <tr>\n",
       "      <th>3 Musketeers</th>\n",
       "      <td>1</td>\n",
       "      <td>0</td>\n",
       "      <td>0</td>\n",
       "      <td>0</td>\n",
       "      <td>1</td>\n",
       "      <td>0</td>\n",
       "      <td>0</td>\n",
       "      <td>1</td>\n",
       "      <td>0</td>\n",
       "      <td>0.604</td>\n",
       "      <td>0.511</td>\n",
       "      <td>67.602936</td>\n",
       "      <td>1</td>\n",
       "    </tr>\n",
       "    <tr>\n",
       "      <th>One dime</th>\n",
       "      <td>0</td>\n",
       "      <td>0</td>\n",
       "      <td>0</td>\n",
       "      <td>0</td>\n",
       "      <td>0</td>\n",
       "      <td>0</td>\n",
       "      <td>0</td>\n",
       "      <td>0</td>\n",
       "      <td>0</td>\n",
       "      <td>0.011</td>\n",
       "      <td>0.116</td>\n",
       "      <td>32.261086</td>\n",
       "      <td>0</td>\n",
       "    </tr>\n",
       "    <tr>\n",
       "      <th>One quarter</th>\n",
       "      <td>0</td>\n",
       "      <td>0</td>\n",
       "      <td>0</td>\n",
       "      <td>0</td>\n",
       "      <td>0</td>\n",
       "      <td>0</td>\n",
       "      <td>0</td>\n",
       "      <td>0</td>\n",
       "      <td>0</td>\n",
       "      <td>0.011</td>\n",
       "      <td>0.511</td>\n",
       "      <td>46.116505</td>\n",
       "      <td>0</td>\n",
       "    </tr>\n",
       "    <tr>\n",
       "      <th>Air Heads</th>\n",
       "      <td>0</td>\n",
       "      <td>1</td>\n",
       "      <td>0</td>\n",
       "      <td>0</td>\n",
       "      <td>0</td>\n",
       "      <td>0</td>\n",
       "      <td>0</td>\n",
       "      <td>0</td>\n",
       "      <td>0</td>\n",
       "      <td>0.906</td>\n",
       "      <td>0.511</td>\n",
       "      <td>52.341465</td>\n",
       "      <td>1</td>\n",
       "    </tr>\n",
       "  </tbody>\n",
       "</table>\n",
       "</div>"
      ],
      "text/plain": [
       "                chocolate  fruity  caramel  peanutyalmondy  nougat  \\\n",
       "competitorname                                                       \n",
       "100 Grand               1       0        1               0       0   \n",
       "3 Musketeers            1       0        0               0       1   \n",
       "One dime                0       0        0               0       0   \n",
       "One quarter             0       0        0               0       0   \n",
       "Air Heads               0       1        0               0       0   \n",
       "\n",
       "                crispedricewafer  hard  bar  pluribus  sugarpercent  \\\n",
       "competitorname                                                        \n",
       "100 Grand                      1     0    1         0         0.732   \n",
       "3 Musketeers                   0     0    1         0         0.604   \n",
       "One dime                       0     0    0         0         0.011   \n",
       "One quarter                    0     0    0         0         0.011   \n",
       "Air Heads                      0     0    0         0         0.906   \n",
       "\n",
       "                pricepercent  winpercent  Y  \n",
       "competitorname                               \n",
       "100 Grand              0.860   66.971725  1  \n",
       "3 Musketeers           0.511   67.602936  1  \n",
       "One dime               0.116   32.261086  0  \n",
       "One quarter            0.511   46.116505  0  \n",
       "Air Heads              0.511   52.341465  1  "
      ]
     },
     "execution_count": 66,
     "metadata": {},
     "output_type": "execute_result"
    }
   ],
   "source": [
    "candy_data_train = pd.read_csv(\"candy_data_train.csv\", delimiter=',', index_col='competitorname')\n",
    "candy_data_train.head()"
   ]
  },
  {
   "cell_type": "code",
   "execution_count": 67,
   "id": "8a136435",
   "metadata": {},
   "outputs": [
    {
     "data": {
      "text/html": [
       "<div>\n",
       "<style scoped>\n",
       "    .dataframe tbody tr th:only-of-type {\n",
       "        vertical-align: middle;\n",
       "    }\n",
       "\n",
       "    .dataframe tbody tr th {\n",
       "        vertical-align: top;\n",
       "    }\n",
       "\n",
       "    .dataframe thead th {\n",
       "        text-align: right;\n",
       "    }\n",
       "</style>\n",
       "<table border=\"1\" class=\"dataframe\">\n",
       "  <thead>\n",
       "    <tr style=\"text-align: right;\">\n",
       "      <th></th>\n",
       "      <th>chocolate</th>\n",
       "      <th>fruity</th>\n",
       "      <th>caramel</th>\n",
       "      <th>peanutyalmondy</th>\n",
       "      <th>nougat</th>\n",
       "      <th>crispedricewafer</th>\n",
       "      <th>hard</th>\n",
       "      <th>bar</th>\n",
       "      <th>pluribus</th>\n",
       "      <th>sugarpercent</th>\n",
       "      <th>pricepercent</th>\n",
       "      <th>Y</th>\n",
       "    </tr>\n",
       "    <tr>\n",
       "      <th>competitorname</th>\n",
       "      <th></th>\n",
       "      <th></th>\n",
       "      <th></th>\n",
       "      <th></th>\n",
       "      <th></th>\n",
       "      <th></th>\n",
       "      <th></th>\n",
       "      <th></th>\n",
       "      <th></th>\n",
       "      <th></th>\n",
       "      <th></th>\n",
       "      <th></th>\n",
       "    </tr>\n",
       "  </thead>\n",
       "  <tbody>\n",
       "    <tr>\n",
       "      <th>Sugar Babies</th>\n",
       "      <td>0</td>\n",
       "      <td>1</td>\n",
       "      <td>1</td>\n",
       "      <td>0</td>\n",
       "      <td>0</td>\n",
       "      <td>0</td>\n",
       "      <td>1</td>\n",
       "      <td>0</td>\n",
       "      <td>1</td>\n",
       "      <td>0.647364</td>\n",
       "      <td>0.7670</td>\n",
       "      <td>0</td>\n",
       "    </tr>\n",
       "    <tr>\n",
       "      <th>Sugar Daddy</th>\n",
       "      <td>1</td>\n",
       "      <td>0</td>\n",
       "      <td>0</td>\n",
       "      <td>0</td>\n",
       "      <td>1</td>\n",
       "      <td>0</td>\n",
       "      <td>1</td>\n",
       "      <td>0</td>\n",
       "      <td>0</td>\n",
       "      <td>0.418000</td>\n",
       "      <td>0.3250</td>\n",
       "      <td>0</td>\n",
       "    </tr>\n",
       "    <tr>\n",
       "      <th>Super Bubble</th>\n",
       "      <td>0</td>\n",
       "      <td>1</td>\n",
       "      <td>0</td>\n",
       "      <td>0</td>\n",
       "      <td>0</td>\n",
       "      <td>0</td>\n",
       "      <td>0</td>\n",
       "      <td>0</td>\n",
       "      <td>0</td>\n",
       "      <td>0.162000</td>\n",
       "      <td>0.1160</td>\n",
       "      <td>0</td>\n",
       "    </tr>\n",
       "    <tr>\n",
       "      <th>Swedish Fish</th>\n",
       "      <td>0</td>\n",
       "      <td>1</td>\n",
       "      <td>0</td>\n",
       "      <td>0</td>\n",
       "      <td>0</td>\n",
       "      <td>0</td>\n",
       "      <td>0</td>\n",
       "      <td>0</td>\n",
       "      <td>1</td>\n",
       "      <td>0.604000</td>\n",
       "      <td>0.7550</td>\n",
       "      <td>1</td>\n",
       "    </tr>\n",
       "    <tr>\n",
       "      <th>Tootsie Pop</th>\n",
       "      <td>1</td>\n",
       "      <td>0</td>\n",
       "      <td>0</td>\n",
       "      <td>0</td>\n",
       "      <td>0</td>\n",
       "      <td>0</td>\n",
       "      <td>0</td>\n",
       "      <td>0</td>\n",
       "      <td>0</td>\n",
       "      <td>0.876560</td>\n",
       "      <td>0.5654</td>\n",
       "      <td>1</td>\n",
       "    </tr>\n",
       "  </tbody>\n",
       "</table>\n",
       "</div>"
      ],
      "text/plain": [
       "                chocolate  fruity  caramel  peanutyalmondy  nougat  \\\n",
       "competitorname                                                       \n",
       "Sugar Babies            0       1        1               0       0   \n",
       "Sugar Daddy             1       0        0               0       1   \n",
       "Super Bubble            0       1        0               0       0   \n",
       "Swedish Fish            0       1        0               0       0   \n",
       "Tootsie Pop             1       0        0               0       0   \n",
       "\n",
       "                crispedricewafer  hard  bar  pluribus  sugarpercent  \\\n",
       "competitorname                                                        \n",
       "Sugar Babies                   0     1    0         1      0.647364   \n",
       "Sugar Daddy                    0     1    0         0      0.418000   \n",
       "Super Bubble                   0     0    0         0      0.162000   \n",
       "Swedish Fish                   0     0    0         1      0.604000   \n",
       "Tootsie Pop                    0     0    0         0      0.876560   \n",
       "\n",
       "                pricepercent  Y  \n",
       "competitorname                   \n",
       "Sugar Babies          0.7670  0  \n",
       "Sugar Daddy           0.3250  0  \n",
       "Super Bubble          0.1160  0  \n",
       "Swedish Fish          0.7550  1  \n",
       "Tootsie Pop           0.5654  1  "
      ]
     },
     "execution_count": 67,
     "metadata": {},
     "output_type": "execute_result"
    }
   ],
   "source": [
    "candy_data_test = pd.read_csv(\"candy_data_test.csv\", delimiter=',', index_col='competitorname')\n",
    "candy_data_test.head()"
   ]
  },
  {
   "cell_type": "markdown",
   "id": "c222c9a3",
   "metadata": {},
   "source": [
    "### Preparing training data"
   ]
  },
  {
   "cell_type": "code",
   "execution_count": 68,
   "id": "52193498",
   "metadata": {},
   "outputs": [],
   "source": [
    "train_data = candy_data_train.drop(['Nestle Crunch', 'Skittles wildberry', 'Sour Patch Tricksters'])"
   ]
  },
  {
   "cell_type": "markdown",
   "id": "e4c38ff4",
   "metadata": {},
   "source": [
    "### Making predictors X and response Y"
   ]
  },
  {
   "cell_type": "code",
   "execution_count": 69,
   "id": "2a9a9515",
   "metadata": {},
   "outputs": [],
   "source": [
    "X = pd.DataFrame(train_data.drop(['winpercent', 'Y'], axis=1))\n",
    "Y = pd.DataFrame(train_data['Y'])"
   ]
  },
  {
   "cell_type": "markdown",
   "id": "88218d07",
   "metadata": {},
   "source": [
    "### Logistic regression model training"
   ]
  },
  {
   "cell_type": "code",
   "execution_count": 70,
   "id": "dfa8093c",
   "metadata": {},
   "outputs": [],
   "source": [
    "reg = LogisticRegression(random_state=2019, solver='lbfgs').fit(X, Y.values.ravel())"
   ]
  },
  {
   "cell_type": "markdown",
   "id": "6cba60e9",
   "metadata": {},
   "source": [
    "### Making predictions"
   ]
  },
  {
   "cell_type": "code",
   "execution_count": 71,
   "id": "fb2fe22e",
   "metadata": {},
   "outputs": [
    {
     "data": {
      "text/plain": [
       "array([0, 0, 0, 0, 1, 1, 1, 1, 0, 0, 0, 0, 0, 1, 1])"
      ]
     },
     "execution_count": 71,
     "metadata": {},
     "output_type": "execute_result"
    }
   ],
   "source": [
    "X_test = pd.DataFrame(candy_data_test.drop(['Y'], axis=1))\n",
    "Y_pred = reg.predict(X_test)\n",
    "Y_pred"
   ]
  },
  {
   "cell_type": "markdown",
   "id": "d196dbf0",
   "metadata": {},
   "source": [
    "### Getting assigning probabilities"
   ]
  },
  {
   "cell_type": "code",
   "execution_count": 72,
   "id": "e8193e00",
   "metadata": {},
   "outputs": [
    {
     "data": {
      "text/plain": [
       "array([[0.72688331, 0.27311669],\n",
       "       [0.61606289, 0.38393711],\n",
       "       [0.70340889, 0.29659111],\n",
       "       [0.6642209 , 0.3357791 ],\n",
       "       [0.2479794 , 0.7520206 ],\n",
       "       [0.31590988, 0.68409012],\n",
       "       [0.36928489, 0.63071511],\n",
       "       [0.23787027, 0.76212973],\n",
       "       [0.70832211, 0.29167789],\n",
       "       [0.61656028, 0.38343972],\n",
       "       [0.6962054 , 0.3037946 ],\n",
       "       [0.86473482, 0.13526518],\n",
       "       [0.70752961, 0.29247039],\n",
       "       [0.41137444, 0.58862556],\n",
       "       [0.26829866, 0.73170134]])"
      ]
     },
     "execution_count": 72,
     "metadata": {},
     "output_type": "execute_result"
    }
   ],
   "source": [
    "Y_pred_probs = reg.predict_proba(X_test)\n",
    "Y_pred_probs"
   ]
  },
  {
   "cell_type": "code",
   "execution_count": 73,
   "id": "b2485226",
   "metadata": {},
   "outputs": [
    {
     "data": {
      "text/plain": [
       "array([0.27311669, 0.38393711, 0.29659111, 0.3357791 , 0.7520206 ,\n",
       "       0.68409012, 0.63071511, 0.76212973, 0.29167789, 0.38343972,\n",
       "       0.3037946 , 0.13526518, 0.29247039, 0.58862556, 0.73170134])"
      ]
     },
     "execution_count": 73,
     "metadata": {},
     "output_type": "execute_result"
    }
   ],
   "source": [
    "Y_pred_probs_class_1 = Y_pred_probs[:, 1]\n",
    "Y_pred_probs_class_1"
   ]
  },
  {
   "cell_type": "markdown",
   "id": "dd472a90",
   "metadata": {},
   "source": [
    "### Getting probability for certain competitors"
   ]
  },
  {
   "cell_type": "code",
   "execution_count": 74,
   "id": "5faa93a3",
   "metadata": {},
   "outputs": [
    {
     "name": "stdout",
     "output_type": "stream",
     "text": [
      "Probability for Werthers Original Caramel: 0.5886255561744789\n",
      "Probability for Sugar Babies: 0.27311668669606015\n"
     ]
    }
   ],
   "source": [
    "print('Probability for Werthers Original Caramel:', Y_pred_probs_class_1[13])\n",
    "print('Probability for Sugar Babies:', Y_pred_probs_class_1[0])"
   ]
  },
  {
   "cell_type": "markdown",
   "id": "472de89c",
   "metadata": {},
   "source": [
    "### Defining true response values"
   ]
  },
  {
   "cell_type": "code",
   "execution_count": 78,
   "id": "16cf24a3",
   "metadata": {},
   "outputs": [
    {
     "data": {
      "text/plain": [
       "array([0, 0, 0, 1, 1, 0, 0, 1, 0, 1, 0, 0, 0, 0, 1])"
      ]
     },
     "execution_count": 78,
     "metadata": {},
     "output_type": "execute_result"
    }
   ],
   "source": [
    "Y_true = (candy_data_test['Y'].to_frame().T).values.ravel()\n",
    "Y_true"
   ]
  },
  {
   "cell_type": "markdown",
   "id": "e287008a",
   "metadata": {},
   "source": [
    "### Calculation of different metrics"
   ]
  },
  {
   "cell_type": "code",
   "execution_count": 76,
   "id": "df8accde",
   "metadata": {},
   "outputs": [
    {
     "name": "stdout",
     "output_type": "stream",
     "text": [
      "Precision score: 0.5\n",
      "Recall score: 0.6\n",
      "AUC score: 0.84\n"
     ]
    }
   ],
   "source": [
    "print('Precision score:', metrics.precision_score(Y_true, Y_pred))\n",
    "print('Recall score:', metrics.recall_score(Y_true, Y_pred))\n",
    "print('AUC score:', metrics.roc_auc_score(Y_true, Y_pred_probs_class_1))"
   ]
  }
 ],
 "metadata": {
  "kernelspec": {
   "display_name": "Python 3 (ipykernel)",
   "language": "python",
   "name": "python3"
  },
  "language_info": {
   "codemirror_mode": {
    "name": "ipython",
    "version": 3
   },
   "file_extension": ".py",
   "mimetype": "text/x-python",
   "name": "python",
   "nbconvert_exporter": "python",
   "pygments_lexer": "ipython3",
   "version": "3.8.10"
  }
 },
 "nbformat": 4,
 "nbformat_minor": 5
}
