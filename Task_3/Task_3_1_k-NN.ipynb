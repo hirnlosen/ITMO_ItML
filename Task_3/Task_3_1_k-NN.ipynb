{
 "cells": [
  {
   "cell_type": "markdown",
   "id": "ef1c22fb",
   "metadata": {},
   "source": [
    "# Task 3.1: k-Nearest Neighbors"
   ]
  },
  {
   "cell_type": "markdown",
   "id": "daf2e678",
   "metadata": {},
   "source": [
    "### Importing required modules"
   ]
  },
  {
   "cell_type": "code",
   "execution_count": 1,
   "id": "bc53eb03",
   "metadata": {},
   "outputs": [],
   "source": [
    "import pandas as pd\n",
    "from sklearn.neighbors import KNeighborsClassifier"
   ]
  },
  {
   "cell_type": "markdown",
   "id": "15cdb9da",
   "metadata": {},
   "source": [
    "### Reading data from file"
   ]
  },
  {
   "cell_type": "code",
   "execution_count": 2,
   "id": "83bfef52",
   "metadata": {},
   "outputs": [
    {
     "data": {
      "text/html": [
       "<div>\n",
       "<style scoped>\n",
       "    .dataframe tbody tr th:only-of-type {\n",
       "        vertical-align: middle;\n",
       "    }\n",
       "\n",
       "    .dataframe tbody tr th {\n",
       "        vertical-align: top;\n",
       "    }\n",
       "\n",
       "    .dataframe thead th {\n",
       "        text-align: right;\n",
       "    }\n",
       "</style>\n",
       "<table border=\"1\" class=\"dataframe\">\n",
       "  <thead>\n",
       "    <tr style=\"text-align: right;\">\n",
       "      <th></th>\n",
       "      <th>X</th>\n",
       "      <th>Y</th>\n",
       "      <th>Class</th>\n",
       "    </tr>\n",
       "    <tr>\n",
       "      <th>id</th>\n",
       "      <th></th>\n",
       "      <th></th>\n",
       "      <th></th>\n",
       "    </tr>\n",
       "  </thead>\n",
       "  <tbody>\n",
       "    <tr>\n",
       "      <th>1</th>\n",
       "      <td>30</td>\n",
       "      <td>96</td>\n",
       "      <td>0</td>\n",
       "    </tr>\n",
       "    <tr>\n",
       "      <th>2</th>\n",
       "      <td>21</td>\n",
       "      <td>73</td>\n",
       "      <td>0</td>\n",
       "    </tr>\n",
       "    <tr>\n",
       "      <th>3</th>\n",
       "      <td>17</td>\n",
       "      <td>32</td>\n",
       "      <td>0</td>\n",
       "    </tr>\n",
       "    <tr>\n",
       "      <th>4</th>\n",
       "      <td>99</td>\n",
       "      <td>28</td>\n",
       "      <td>1</td>\n",
       "    </tr>\n",
       "    <tr>\n",
       "      <th>5</th>\n",
       "      <td>67</td>\n",
       "      <td>51</td>\n",
       "      <td>0</td>\n",
       "    </tr>\n",
       "  </tbody>\n",
       "</table>\n",
       "</div>"
      ],
      "text/plain": [
       "     X   Y  Class\n",
       "id               \n",
       "1   30  96      0\n",
       "2   21  73      0\n",
       "3   17  32      0\n",
       "4   99  28      1\n",
       "5   67  51      0"
      ]
     },
     "execution_count": 2,
     "metadata": {},
     "output_type": "execute_result"
    }
   ],
   "source": [
    "data = pd.read_csv(\"task_3_1.csv\", delimiter=',', index_col='id')\n",
    "data.head()"
   ]
  },
  {
   "cell_type": "markdown",
   "id": "22b7ff36",
   "metadata": {},
   "source": [
    "### Preparing data"
   ]
  },
  {
   "cell_type": "code",
   "execution_count": 3,
   "id": "a489a56f",
   "metadata": {},
   "outputs": [],
   "source": [
    "# Making X, Y datasets\n",
    "X = pd.DataFrame(data.drop(['Class'], axis=1))\n",
    "Y = pd.DataFrame(data['Class']).values.ravel()"
   ]
  },
  {
   "cell_type": "markdown",
   "id": "9af51a4c",
   "metadata": {},
   "source": [
    "### Working with data"
   ]
  },
  {
   "cell_type": "code",
   "execution_count": 5,
   "id": "122ed876",
   "metadata": {},
   "outputs": [
    {
     "name": "stdout",
     "output_type": "stream",
     "text": [
      "Manhattan distances and indeces: (array([[18., 30., 31.]]), array([[5, 4, 9]]))\n",
      "Euclidean distances and indeces: (array([[14.56021978, 21.40093456, 24.35159132]]), array([[5, 4, 9]]))\n",
      "Predicted class for Manhattan distance: 1\n",
      "Predicted class for Euclidean distance: 1\n"
     ]
    },
    {
     "name": "stderr",
     "output_type": "stream",
     "text": [
      "/home/hirnlosen/.local/lib/python3.8/site-packages/sklearn/base.py:450: UserWarning: X does not have valid feature names, but KNeighborsClassifier was fitted with feature names\n",
      "  warnings.warn(\n",
      "/home/hirnlosen/.local/lib/python3.8/site-packages/sklearn/base.py:450: UserWarning: X does not have valid feature names, but KNeighborsClassifier was fitted with feature names\n",
      "  warnings.warn(\n",
      "/home/hirnlosen/.local/lib/python3.8/site-packages/sklearn/base.py:450: UserWarning: X does not have valid feature names, but KNeighborsClassifier was fitted with feature names\n",
      "  warnings.warn(\n",
      "/home/hirnlosen/.local/lib/python3.8/site-packages/sklearn/base.py:450: UserWarning: X does not have valid feature names, but KNeighborsClassifier was fitted with feature names\n",
      "  warnings.warn(\n"
     ]
    }
   ],
   "source": [
    "# Fitting training data for Manhattan and Euclidean distances\n",
    "neigh_1 = KNeighborsClassifier(n_neighbors=3, p=1)\n",
    "neigh_1.fit(X, Y)\n",
    "neigh_2 = KNeighborsClassifier(n_neighbors=3, p=2)\n",
    "neigh_2.fit(X, Y)\n",
    "\n",
    "# Defining new object\n",
    "NewObject = [54, 68]\n",
    "\n",
    "# Getting distances\n",
    "print(\"Manhattan distances and indeces:\", neigh_1.kneighbors([NewObject]))\n",
    "print(\"Euclidean distances and indeces:\", neigh_2.kneighbors([NewObject]))\n",
    "\n",
    "# Predicting class\n",
    "print(\"Predicted class for Manhattan distance:\", neigh_1.predict([NewObject])[0])\n",
    "print(\"Predicted class for Euclidean distance:\", neigh_2.predict([NewObject])[0])"
   ]
  }
 ],
 "metadata": {
  "kernelspec": {
   "display_name": "Python 3 (ipykernel)",
   "language": "python",
   "name": "python3"
  },
  "language_info": {
   "codemirror_mode": {
    "name": "ipython",
    "version": 3
   },
   "file_extension": ".py",
   "mimetype": "text/x-python",
   "name": "python",
   "nbconvert_exporter": "python",
   "pygments_lexer": "ipython3",
   "version": "3.8.10"
  }
 },
 "nbformat": 4,
 "nbformat_minor": 5
}
