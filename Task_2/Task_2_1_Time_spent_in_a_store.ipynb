{
 "cells": [
  {
   "cell_type": "markdown",
   "id": "48328040",
   "metadata": {},
   "source": [
    "# Task 2.1: Linear Regression - Time spent in a store"
   ]
  },
  {
   "cell_type": "markdown",
   "id": "a838b53d",
   "metadata": {},
   "source": [
    "### Importing required modules"
   ]
  },
  {
   "cell_type": "code",
   "execution_count": 1,
   "id": "7e0a2b06",
   "metadata": {},
   "outputs": [],
   "source": [
    "import pandas as pd\n",
    "from sklearn.linear_model import LinearRegression"
   ]
  },
  {
   "cell_type": "markdown",
   "id": "488bef20",
   "metadata": {},
   "source": [
    "### Reading data from file"
   ]
  },
  {
   "cell_type": "code",
   "execution_count": 2,
   "id": "5b5aaefa",
   "metadata": {
    "scrolled": true
   },
   "outputs": [
    {
     "data": {
      "text/html": [
       "<div>\n",
       "<style scoped>\n",
       "    .dataframe tbody tr th:only-of-type {\n",
       "        vertical-align: middle;\n",
       "    }\n",
       "\n",
       "    .dataframe tbody tr th {\n",
       "        vertical-align: top;\n",
       "    }\n",
       "\n",
       "    .dataframe thead th {\n",
       "        text-align: right;\n",
       "    }\n",
       "</style>\n",
       "<table border=\"1\" class=\"dataframe\">\n",
       "  <thead>\n",
       "    <tr style=\"text-align: right;\">\n",
       "      <th></th>\n",
       "      <th>id</th>\n",
       "      <th>X</th>\n",
       "      <th>Y</th>\n",
       "    </tr>\n",
       "  </thead>\n",
       "  <tbody>\n",
       "    <tr>\n",
       "      <th>0</th>\n",
       "      <td>1</td>\n",
       "      <td>12</td>\n",
       "      <td>38</td>\n",
       "    </tr>\n",
       "    <tr>\n",
       "      <th>1</th>\n",
       "      <td>2</td>\n",
       "      <td>10</td>\n",
       "      <td>25</td>\n",
       "    </tr>\n",
       "    <tr>\n",
       "      <th>2</th>\n",
       "      <td>3</td>\n",
       "      <td>4</td>\n",
       "      <td>10</td>\n",
       "    </tr>\n",
       "    <tr>\n",
       "      <th>3</th>\n",
       "      <td>4</td>\n",
       "      <td>22</td>\n",
       "      <td>43</td>\n",
       "    </tr>\n",
       "    <tr>\n",
       "      <th>4</th>\n",
       "      <td>5</td>\n",
       "      <td>1</td>\n",
       "      <td>2</td>\n",
       "    </tr>\n",
       "  </tbody>\n",
       "</table>\n",
       "</div>"
      ],
      "text/plain": [
       "   id   X   Y\n",
       "0   1  12  38\n",
       "1   2  10  25\n",
       "2   3   4  10\n",
       "3   4  22  43\n",
       "4   5   1   2"
      ]
     },
     "execution_count": 2,
     "metadata": {},
     "output_type": "execute_result"
    }
   ],
   "source": [
    "data = pd.read_csv(\"time_spent_in_store.csv\", encoding = 'utf-8', delimiter=',')\n",
    "data.head()"
   ]
  },
  {
   "cell_type": "markdown",
   "id": "c68efa27",
   "metadata": {},
   "source": [
    "### Making predictor X and response Y"
   ]
  },
  {
   "cell_type": "code",
   "execution_count": 3,
   "id": "8d1c093f",
   "metadata": {},
   "outputs": [],
   "source": [
    "X = pd.DataFrame(data.drop(['id', 'Y'], axis=1))\n",
    "Y = pd.DataFrame(data.drop(['id', 'X'], axis=1))"
   ]
  },
  {
   "cell_type": "markdown",
   "id": "64b63542",
   "metadata": {},
   "source": [
    "### Calculating various metrics"
   ]
  },
  {
   "cell_type": "code",
   "execution_count": 4,
   "id": "76931055",
   "metadata": {},
   "outputs": [
    {
     "name": "stdout",
     "output_type": "stream",
     "text": [
      "Sample mean of X:  11.8\n",
      "Sample mean of Y:  25.1\n",
      "Theta0:  5.3979671618451945\n",
      "Theta1:  1.6696637998436277\n",
      "R^2:  0.8525475628109431\n"
     ]
    }
   ],
   "source": [
    "# Calculating regretion of the data\n",
    "reg = LinearRegression().fit(X, Y)\n",
    "\n",
    "# Getting theta0 and theta1\n",
    "theta0 = reg.intercept_[0]\n",
    "theta1 = reg.coef_[0][0]\n",
    "\n",
    "# Calculating mean\n",
    "X = X['X']\n",
    "Y = Y['Y']\n",
    "x_mean = X.mean()\n",
    "y_mean = Y.mean()\n",
    "\n",
    "# Calculating R^2\n",
    "numerator = 0\n",
    "denominator = 0\n",
    "for i in range(0, 9+1):\n",
    "    numerator += (Y[i] - theta0 - theta1*X[i])**2\n",
    "    denominator += (Y[i] - y_mean)**2\n",
    "R_sq = 1 - numerator / denominator\n",
    "\n",
    "print(\"Sample mean of X: \", x_mean)\n",
    "print(\"Sample mean of Y: \", y_mean)\n",
    "print(\"Theta0: \", theta0)\n",
    "print(\"Theta1: \", theta1)\n",
    "print(\"R^2: \", R_sq)"
   ]
  }
 ],
 "metadata": {
  "kernelspec": {
   "display_name": "Python 3 (ipykernel)",
   "language": "python",
   "name": "python3"
  },
  "language_info": {
   "codemirror_mode": {
    "name": "ipython",
    "version": 3
   },
   "file_extension": ".py",
   "mimetype": "text/x-python",
   "name": "python",
   "nbconvert_exporter": "python",
   "pygments_lexer": "ipython3",
   "version": "3.8.10"
  }
 },
 "nbformat": 4,
 "nbformat_minor": 5
}
